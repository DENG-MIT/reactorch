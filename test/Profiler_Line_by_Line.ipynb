{
 "cells": [
  {
   "cell_type": "code",
   "execution_count": 1,
   "metadata": {},
   "outputs": [
    {
     "name": "stdout",
     "output_type": "stream",
     "text": [
      "     t [s]      T [K]    P [atm]       u [J/kg]\n",
      " 4.807e-01   2943.750     63.269   2.355070e+05\n",
      "idt = 1.01e-01 [s] number of points 3233\n"
     ]
    }
   ],
   "source": [
    "from time import perf_counter\n",
    "\n",
    "import cantera as ct\n",
    "import torch\n",
    "from torch.autograd.functional import jacobian as jacobian\n",
    "\n",
    "import reactorch as rt\n",
    "\n",
    "cpu = torch.device('cpu')\n",
    "\n",
    "cuda = torch.device('cuda:0')\n",
    "\n",
    "device = cuda\n",
    "\n",
    "mech_yaml = '../data/gri30.yaml'\n",
    "composition = \"CH4:0.5, O2:1.0, N2:3.76\"\n",
    "\n",
    "sol = rt.Solution(mech_yaml=mech_yaml, device=device)\n",
    "\n",
    "gas = sol.gas\n",
    "gas.TPX = 950, 20 * ct.one_atm, composition\n",
    "\n",
    "r = ct.IdealGasReactor(gas)\n",
    "sim = ct.ReactorNet([r])\n",
    "\n",
    "time = 0.0\n",
    "t_end = 10\n",
    "idt = 0\n",
    "states = ct.SolutionArray(gas, extra=['t'])\n",
    "T0 = gas.T\n",
    "\n",
    "print('%10s %10s %10s %14s' % ('t [s]', 'T [K]', 'P [atm]', 'u [J/kg]'))\n",
    "\n",
    "while sim.time < t_end:\n",
    "\n",
    "    sim.step()\n",
    "\n",
    "    states.append(r.thermo.state, t=time)\n",
    "\n",
    "    if r.thermo.T > T0 + 600 and idt < 1e-10:\n",
    "        idt = sim.time\n",
    "\n",
    "    if idt > 1e-10 and sim.time > 4 * idt:\n",
    "        break\n",
    "\n",
    "print('%10.3e %10.3f %10.3f %14.6e' % (sim.time,\n",
    "                                       r.T,\n",
    "                                       r.thermo.P / ct.one_atm,\n",
    "                                       r.thermo.u))\n",
    "\n",
    "print('idt = {:.2e} [s] number of points {}'.format(idt, states.t.shape[0]))"
   ]
  },
  {
   "cell_type": "code",
   "execution_count": 2,
   "metadata": {},
   "outputs": [],
   "source": [
    "TP = torch.stack((torch.Tensor(states.T), torch.Tensor(states.P)), dim=-1)\n",
    "Y = torch.Tensor(states.Y)\n",
    "TPY = torch.cat([TP, Y], dim=-1).to(device)\n",
    "\n",
    "TPY.requires_grad = True"
   ]
  },
  {
   "cell_type": "code",
   "execution_count": 3,
   "metadata": {},
   "outputs": [
    {
     "name": "stdout",
     "output_type": "stream",
     "text": [
      "61.2 ms ± 1.5 ms per loop (mean ± std. dev. of 7 runs, 1 loop each)\n"
     ]
    }
   ],
   "source": [
    "%timeit sol.set_states(TPY)"
   ]
  },
  {
   "cell_type": "code",
   "execution_count": 4,
   "metadata": {},
   "outputs": [
    {
     "name": "stdout",
     "output_type": "stream",
     "text": [
      "58.2 ms ± 38.6 µs per loop (mean ± std. dev. of 7 runs, 10 loops each)\n"
     ]
    }
   ],
   "source": [
    "%timeit sol.forward_rate_constants_func()"
   ]
  },
  {
   "cell_type": "markdown",
   "metadata": {},
   "source": [
    "It seems that the bottleneck is the function of `forward_rate_constants_func()`"
   ]
  },
  {
   "cell_type": "code",
   "execution_count": 5,
   "metadata": {},
   "outputs": [
    {
     "name": "stdout",
     "output_type": "stream",
     "text": [
      "942 µs ± 706 ns per loop (mean ± std. dev. of 7 runs, 1000 loops each)\n"
     ]
    }
   ],
   "source": [
    "%timeit sol.equilibrium_constants_func()"
   ]
  },
  {
   "cell_type": "code",
   "execution_count": 6,
   "metadata": {},
   "outputs": [
    {
     "name": "stdout",
     "output_type": "stream",
     "text": [
      "86 µs ± 20.2 ns per loop (mean ± std. dev. of 7 runs, 10000 loops each)\n"
     ]
    }
   ],
   "source": [
    "%timeit sol.reverse_rate_constants_func()"
   ]
  },
  {
   "cell_type": "code",
   "execution_count": 7,
   "metadata": {},
   "outputs": [
    {
     "name": "stdout",
     "output_type": "stream",
     "text": [
      "1.27 ms ± 1.5 µs per loop (mean ± std. dev. of 7 runs, 1000 loops each)\n"
     ]
    }
   ],
   "source": [
    "%timeit sol.wdot_func()"
   ]
  },
  {
   "cell_type": "code",
   "execution_count": 8,
   "metadata": {},
   "outputs": [
    {
     "name": "stdout",
     "output_type": "stream",
     "text": [
      "CPU times: user 5 µs, sys: 1e+03 ns, total: 6 µs\n",
      "Wall time: 11.2 µs\n",
      "torch.Size([3233, 55])\n"
     ]
    }
   ],
   "source": [
    "# Test if the AD works properly\n",
    "\n",
    "%time\n",
    "\n",
    "TPY_grad = torch.autograd.grad(outputs=sol.wdot.sum(),\n",
    "                               inputs=TPY,\n",
    "                               retain_graph=True,\n",
    "                               create_graph=True,\n",
    "                               allow_unused=True)[0]\n",
    "\n",
    "print(TPY_grad.shape)"
   ]
  }
 ],
 "metadata": {
  "kernelspec": {
   "display_name": "Python 3",
   "language": "python",
   "name": "python3"
  },
  "language_info": {
   "codemirror_mode": {
    "name": "ipython",
    "version": 3
   },
   "file_extension": ".py",
   "mimetype": "text/x-python",
   "name": "python",
   "nbconvert_exporter": "python",
   "pygments_lexer": "ipython3",
   "version": "3.7.7"
  }
 },
 "nbformat": 4,
 "nbformat_minor": 4
}
